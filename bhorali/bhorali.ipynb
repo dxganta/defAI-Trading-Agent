{
 "cells": [
  {
   "cell_type": "markdown",
   "metadata": {},
   "source": [
    "# AI Agent Bhorali"
   ]
  },
  {
   "cell_type": "code",
   "execution_count": 1,
   "metadata": {},
   "outputs": [],
   "source": [
    "from typing import Annotated, List\n",
    "from typing_extensions import TypedDict\n",
    "from IPython.display import Image\n",
    "\n",
    "from langgraph.graph import StateGraph, START, END\n",
    "from langgraph.graph.message import add_messages\n",
    "from langchain_openai import ChatOpenAI\n",
    "from langchain_community.tools.tavily_search import TavilySearchResults\n",
    "from langchain_core.messages import ToolMessage, HumanMessage, AIMessage, SystemMessage\n",
    "from langgraph.prebuilt import ToolNode, tools_condition\n",
    "from langgraph.checkpoint.memory import MemorySaver\n",
    "from langgraph.types import Command, interrupt\n",
    "from langchain_core.tools import tool, InjectedToolCallId\n",
    "from langgraph.prebuilt.chat_agent_executor import AgentState\n",
    "import requests\n",
    "from pydantic import BaseModel, Field\n"
   ]
  },
  {
   "cell_type": "code",
   "execution_count": 5,
   "metadata": {},
   "outputs": [],
   "source": [
    "# model = ChatOpenAI(model=\"gpt-4o\", temperature=0)\n",
    "\n",
    "# # pydantic\n",
    "# class PersonSchema(BaseModel):\n",
    "#     \"\"\"Details of the person\"\"\"\n",
    "\n",
    "#     name: str = Field(description=\"Name of the person\")\n",
    "#     age: int = Field(description=\"age in years of the person\")\n",
    "#     height: float = Field(description=\"height in feet and inch\")\n",
    "#     wives: list[str] = Field(description=\"list of names of the present and past wives\")\n",
    "#     news: list[str] = Field(description=\"list of what the person did interesting in the last week, with dates provided.\")\n",
    "\n",
    "\n",
    "# structured_llm = model.with_structured_output(PersonSchema)\n",
    "\n",
    "# structured_llm.invoke(\"tell me about Diana\")"
   ]
  },
  {
   "cell_type": "code",
   "execution_count": 35,
   "metadata": {},
   "outputs": [],
   "source": [
    "class State(TypedDict):\n",
    "    task: str \n",
    "    coins_to_invest: list[str]\n",
    "    coins_risk_assessed: list[str]\n",
    "\n",
    "def get_top_dexscreener_coins():\n",
    "    '''Get the top 30 tokens on dexscreener'''\n",
    "    chain_id = \"solana\"\n",
    "\n",
    "    # Get the tokens with most active boosts on dexscreener (rate-limit 60 requests per minute)\n",
    "    response = requests.get(\n",
    "        \"https://api.dexscreener.com/token-boosts/top/v1\",\n",
    "        headers={},\n",
    "    )\n",
    "        \n",
    "    data = response.json()\n",
    "\n",
    "    # Extract token addresses from the response data\n",
    "    token_addresses = [item[\"tokenAddress\"] for item in data if item[\"chainId\"] == chain_id]\n",
    "\n",
    "    response = requests.get(\n",
    "        f\"https://api.dexscreener.com/tokens/v1/{chain_id}/{','.join(token_addresses)}\",\n",
    "        headers={},\n",
    "    )\n",
    "\n",
    "    data = response.json()\n",
    "    \n",
    "    # return Command(\n",
    "    #     update = {\n",
    "    #         \"messages\": [\n",
    "    #             ToolMessage(f'Successfully fetched top 30 tokens on dexscreener, {data}', tool_call_id=tool_call_id)\n",
    "    #         ]\n",
    "    #     }\n",
    "    # )\n",
    "\n",
    "    return f'Top 30 tokens on dexscreener: {data}'\n",
    "\n",
    "\n",
    "search_tool = TavilySearchResults(max_results=2)\n",
    "\n",
    "system_prompt = \"You are a DEX Trading Analysis AI specializing in identifying short-term cryptocurrency opportunities.\" \n",
    "\n",
    "coins_prompt = \"\"\"Analyze DEXScreener data and filter out the high-potential tokens (maximum 10) by examining price action, volume, liquidity, and holder patterns. \n",
    "For each recommendation, provide: token details (address, chain, price), key metrics (market cap, volume, liquidity).\"\"\"\n",
    "\n",
    "risk_assessment_prompt = \"\"\" \n",
    "                         Asses the contract safety, team verification, potential red flags for the safe tokens and filter out the high risk tokens.\n",
    "                         Output the list of safe tokens.\n",
    "                         Never recommend tokens with suspicious contracts or extremely low liquidity.\"\"\"\n"
   ]
  },
  {
   "cell_type": "code",
   "execution_count": 39,
   "metadata": {},
   "outputs": [],
   "source": [
    "class Agent:\n",
    "\n",
    "    def __init__(self, model):\n",
    "        graph_builder = StateGraph(State)\n",
    "        self.llm = model\n",
    "        # self.llm = model.bind_tools(tools)\n",
    "\n",
    "        # set_llm_cache(SQLiteCache(database_path=\".langchain.db\"))\n",
    "        # memory = SqliteSaver.from_conn_string(\":memory:\")\n",
    "        memory = MemorySaver()\n",
    "\n",
    "        # tool_node = ToolNode(tools)\n",
    "\n",
    "        graph_builder.add_node(\"get_coins\", self.get_coins_node)\n",
    "        graph_builder.add_node(\"get_risk_assessment\", self.get_risk_assessment_node)\n",
    "\n",
    "        graph_builder.add_edge(START, \"get_coins\")\n",
    "        graph_builder.add_edge(\"get_coins\", \"get_risk_assessment\")\n",
    "        graph_builder.add_edge(\"get_risk_assessment\", END)\n",
    "        \n",
    "        self.graph = graph_builder.compile(checkpointer=memory)\n",
    "\n",
    "    \n",
    "    def get_coins_node(self, state: State):\n",
    "        dexscreener_coins = get_top_dexscreener_coins()\n",
    "        messages = [\n",
    "            SystemMessage(content=system_prompt),\n",
    "            SystemMessage(content=coins_prompt),\n",
    "            HumanMessage(content=state['task']),\n",
    "            AIMessage(content=dexscreener_coins),\n",
    "        ]\n",
    "\n",
    "        response = self.llm.invoke(messages)\n",
    "\n",
    "        return {\"coins_to_invest\": response.content}\n",
    "    \n",
    "    def get_risk_assessment_node(self, state: State):\n",
    "        messages = [\n",
    "            SystemMessage(content=risk_assessment_prompt),\n",
    "            HumanMessage(content=state[\"coins_to_invest\"]),\n",
    "        ]\n",
    "\n",
    "        response = self.llm.invoke(messages)\n",
    "\n",
    "        return {\"coins_risk_assessed\": response.content}\n",
    "        \n",
    "    \n",
    "    def show_graph(self):\n",
    "        return Image(self.graph.get_graph().draw_mermaid_png())\n",
    "    \n",
    "    def stream_graph_updates(self, config, user_input: str):\n",
    "        for event in self.graph.stream(\n",
    "            {\"messages\": [{\"role\": \"user\", \"content\": user_input}]},\n",
    "            config,\n",
    "            stream_mode=\"values\",\n",
    "        ):\n",
    "            # for value in event.values():\n",
    "            event[\"messages\"][-1].pretty_print()\n",
    "\n",
    "    def route_tools(self, state: State):\n",
    "        print(\"Previous State\", state)\n",
    "        if isinstance(state, list):\n",
    "            ai_message = state[-1]\n",
    "        elif messages := state.get(\"messages\", []):\n",
    "            ai_message = messages[-1]\n",
    "        else:\n",
    "            raise ValueError(\"No AI messages found in input state: {state}\")\n",
    "\n",
    "        if hasattr(ai_message, \"tool_calls\") and len(ai_message.tool_calls) > 0:\n",
    "            return \"tools\"\n",
    "        return \"get_risk_assessment\""
   ]
  },
  {
   "cell_type": "code",
   "execution_count": 40,
   "metadata": {},
   "outputs": [
    {
     "data": {
      "image/png": "[encoded data removed]",
      "text/plain": [
       "<IPython.core.display.Image object>"
      ]
     },
     "execution_count": 40,
     "metadata": {},
     "output_type": "execute_result"
    }
   ],
   "source": [
    "model = ChatOpenAI(model=\"gpt-4o\", temperature=0)\n",
    "# tools = [get_top_dexscreener_coins, search_tool]\n",
    "agent = Agent(model)\n",
    "\n",
    "agent.show_graph()"
   ]
  },
  {
   "cell_type": "code",
   "execution_count": 41,
   "metadata": {},
   "outputs": [
    {
     "name": "stdout",
     "output_type": "stream",
     "text": [
      "{'get_coins': {'coins_to_invest': 'Based on the DEXScreener data, here are some high-potential tokens to consider for short-term trading opportunities. These tokens have been selected based on their price action, volume, liquidity, and market cap:\\n\\n1. **MMUSK (Solana)**\\n   - **Address:** 8csPcR1juDwvcJX1Uji4qT8WE6ExHSCw9G7zDraQpump\\n   - **Price:** $0.0002743\\n   - **Market Cap:** $274,360\\n   - **Volume (24h):** $2,611,476.97\\n   - **Liquidity:** $65,980.08\\n\\n2. **Deep Bober (Solana)**\\n   - **Address:** BoBerxDHjePJSn4nVEnnEQyYtHZY3kGTea6jtqLq8gTj\\n   - **Price:** $0.07665\\n   - **Market Cap:** $76,652,348\\n   - **Volume (24h):** $31,571,213.63\\n   - **Liquidity:** $6,885,987.4\\n\\n3. **Marsh Coin (Solana)**\\n   - **Address:** jUfwXi6BWechD13bzp1R1h2AR3bSKuGkJd5qJmppump\\n   - **Price:** $0.0001593\\n   - **Market Cap:** $159,350\\n   - **Volume (24h):** $5,723,195.32\\n   - **Liquidity:** $57,141.8\\n\\n4. **SUPERBOWL LIX (Solana)**\\n   - **Address:** 2ychLEgnyMqfSrX85n5qiuA5BgrNsovsmNgE6sjrpump\\n   - **Price:** $0.0002286\\n   - **Market Cap:** $228,654\\n   - **Volume (24h):** $380,575.56\\n   - **Liquidity:** $55,292.84\\n\\n5. **Playstation Coin (Solana)**\\n   - **Address:** Gye36ceGXsnQ4oaE8pNknK7HoLDkcp6jsJ1tejs1pump\\n   - **Price:** $0.0002959\\n   - **Market Cap:** $295,923\\n   - **Volume (24h):** $491,796.73\\n   - **Liquidity:** $63,417.08\\n\\n6. **XOXO (Solana)**\\n   - **Address:** FcsgEKX5cu2xeYQeQ5GiWKvPCEYmdBtPRTvYNFrLxoxo\\n   - **Price:** $0.0003454\\n   - **Market Cap:** $345,495\\n   - **Volume (24h):** $831,800.7\\n   - **Liquidity:** $73,216.59\\n\\n7. **Barf Boy (Solana)**\\n   - **Address:** mVuzEMo5n4p6iHNFGWsFkACB2F1vNmW8BdwoyKApump\\n   - **Price:** $0.0004006\\n   - **Market Cap:** $400,608\\n   - **Volume (24h):** $2,541,952.26\\n   - **Liquidity:** $81,944.98\\n\\n8. **Catpuccino (Solana)**\\n   - **Address:** De8hikufniTq6RMqJRuG8UTHHvgt4Wnjyx6PLcU6EzaK\\n   - **Price:** $0.00008496\\n   - **Market Cap:** $84,966\\n   - **Volume (24h):** $271,211.96\\n   - **Liquidity:** $21,337.57\\n\\n9. **CELIO (Solana)**\\n   - **Address:** 9Q6VHPMChA1bWK9uvCAxudihu3q3CD3fhchnzYJTsb2c\\n   - **Price:** $0.00001024\\n   - **Market Cap:** $10,240\\n   - **Volume (24h):** $1,150,343.14\\n   - **Liquidity:** $7,430.56\\n\\n10. **GIGANODE (Solana)**\\n    - **Address:** 5StZ4zd4Kb3FsmZYfUQNMZ8KFnsVFoh9mjR2vjJbxJtH\\n    - **Price:** $0.000005721\\n    - **Market Cap:** $5,722\\n    - **Volume (24h):** $2,004,887.67\\n    - **Liquidity:** $9,392.53\\n\\nThese tokens show promising metrics, but always conduct your own research and consider market conditions before making any investment decisions.'}}\n",
      "{'get_risk_assessment': {'coins_risk_assessed': \"When assessing the safety and potential risks associated with the tokens listed, it's important to consider several factors such as contract safety, team verification, and liquidity. Here's an analysis of the tokens provided:\\n\\n1. **MMUSK (Solana)**\\n   - **Liquidity:** $65,980.08\\n   - **Assessment:** The liquidity is relatively low, which could pose a risk for price manipulation and difficulty in executing trades without significant slippage.\\n\\n2. **Deep Bober (Solana)**\\n   - **Liquidity:** $6,885,987.4\\n   - **Assessment:** High liquidity suggests a lower risk of price manipulation and better trade execution. This token appears safer compared to others on the list.\\n\\n3. **Marsh Coin (Solana)**\\n   - **Liquidity:** $57,141.8\\n   - **Assessment:** Similar to MMUSK, the liquidity is on the lower side, which could be a red flag for potential investors.\\n\\n4. **SUPERBOWL LIX (Solana)**\\n   - **Liquidity:** $55,292.84\\n   - **Assessment:** Low liquidity raises concerns about the safety and stability of this token.\\n\\n5. **Playstation Coin (Solana)**\\n   - **Liquidity:** $63,417.08\\n   - **Assessment:** The liquidity is moderate but still poses some risk for investors.\\n\\n6. **XOXO (Solana)**\\n   - **Liquidity:** $73,216.59\\n   - **Assessment:** Slightly higher liquidity than others, but still requires caution.\\n\\n7. **Barf Boy (Solana)**\\n   - **Liquidity:** $81,944.98\\n   - **Assessment:** Better liquidity compared to others, making it a relatively safer option.\\n\\n8. **Catpuccino (Solana)**\\n   - **Liquidity:** $21,337.57\\n   - **Assessment:** Very low liquidity, which is a significant red flag.\\n\\n9. **CELIO (Solana)**\\n   - **Liquidity:** $7,430.56\\n   - **Assessment:** Extremely low liquidity, making it a high-risk token.\\n\\n10. **GIGANODE (Solana)**\\n    - **Liquidity:** $9,392.53\\n    - **Assessment:** Very low liquidity, indicating high risk.\\n\\n**Safe Tokens:**\\n- **Deep Bober (Solana)**\\n- **Barf Boy (Solana)**\\n\\nThese tokens have relatively higher liquidity, which reduces the risk of price manipulation and allows for better trade execution. However, it's crucial to conduct further research on the contract safety and team verification before making any investment decisions. Always be cautious of tokens with low liquidity and ensure that the project has a reputable team and a secure contract.\"}}\n"
     ]
    }
   ],
   "source": [
    "thread = {\"configurable\": {\"thread_id\": \"1\"}}\n",
    "\n",
    "# events = agent.graph.stream(\n",
    "#     {\"task\": \"get me coins to BUY\"},\n",
    "#     thread,\n",
    "#     stream_mode=\"values\",\n",
    "# )\n",
    "\n",
    "# for event in events:\n",
    "#     if \"messages\" in event:\n",
    "#         event[\"messages\"][-1].pretty_print()\n",
    "\n",
    "for s in agent.graph.stream({\n",
    "    'task': \"get me coins to BUY\",\n",
    "}, thread):\n",
    "    (print(s))"
   ]
  },
  {
   "cell_type": "code",
   "execution_count": null,
   "metadata": {},
   "outputs": [],
   "source": []
  },
  {
   "cell_type": "code",
   "execution_count": null,
   "metadata": {},
   "outputs": [],
   "source": []
  },
  {
   "cell_type": "code",
   "execution_count": null,
   "metadata": {},
   "outputs": [],
   "source": []
  },
  {
   "cell_type": "markdown",
   "metadata": {},
   "source": []
  }
 ],
 "metadata": {
  "kernelspec": {
   "display_name": "Python 3",
   "language": "python",
   "name": "python3"
  },
  "language_info": {
   "codemirror_mode": {
    "name": "ipython",
    "version": 3
   },
   "file_extension": ".py",
   "mimetype": "text/x-python",
   "name": "python",
   "nbconvert_exporter": "python",
   "pygments_lexer": "ipython3",
   "version": "3.10.3"
  }
 },
 "nbformat": 4,
 "nbformat_minor": 2
}
